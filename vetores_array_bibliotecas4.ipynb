{
  "nbformat": 4,
  "nbformat_minor": 0,
  "metadata": {
    "colab": {
      "name": "vetores_array_bibliotecas4.ipynb",
      "provenance": [],
      "authorship_tag": "ABX9TyPlEwuWCrjyQxtEFV+hFsQQ",
      "include_colab_link": true
    },
    "kernelspec": {
      "name": "python3",
      "display_name": "Python 3"
    },
    "language_info": {
      "name": "python"
    }
  },
  "cells": [
    {
      "cell_type": "markdown",
      "metadata": {
        "id": "view-in-github",
        "colab_type": "text"
      },
      "source": [
        "<a href=\"https://colab.research.google.com/github/clovesrocha/CFAD2021/blob/main/vetores_array_bibliotecas4.ipynb\" target=\"_parent\"><img src=\"https://colab.research.google.com/assets/colab-badge.svg\" alt=\"Open In Colab\"/></a>"
      ]
    },
    {
      "cell_type": "code",
      "metadata": {
        "id": "rsWj8UiJUYIg"
      },
      "source": [
        "# ETE PORTO DIGITAL\n",
        "# CURSO DE FORMAÇÃO ANALISTA DE DADOS (JÚNIOR E PLENO) \n",
        "# PROF.: CLOVES ROCHA\n",
        "# EXEMPLOS EXTRA DE VETORES: \n",
        "\n",
        "import pandas as pd\n",
        "import numpy as np\n",
        "import time\n"
      ],
      "execution_count": 26,
      "outputs": []
    },
    {
      "cell_type": "code",
      "metadata": {
        "colab": {
          "base_uri": "https://localhost:8080/"
        },
        "id": "aDCkgsgAUi6d",
        "outputId": "c0a3f692-7752-49dd-ad21-052d1f27fe9e"
      },
      "source": [
        "vetorestudantes = ['Jorge, Igor, Veruska, Nathália', 10, 9, 8, 7]\n",
        "print(vetorestudantes)"
      ],
      "execution_count": 4,
      "outputs": [
        {
          "output_type": "stream",
          "name": "stdout",
          "text": [
            "['Jorge, Igor, Veruska, Nathália', 10, 9, 8, 7]\n"
          ]
        }
      ]
    },
    {
      "cell_type": "code",
      "metadata": {
        "colab": {
          "base_uri": "https://localhost:8080/"
        },
        "id": "QDJ5B10vXaee",
        "outputId": "c742ba67-816b-476f-9de5-f9a8be49c3a0"
      },
      "source": [
        "país = ['Bélgica', 'Índia', 'Brasil']\n",
        "print(país)"
      ],
      "execution_count": 6,
      "outputs": [
        {
          "output_type": "stream",
          "name": "stdout",
          "text": [
            "['Bélgica', 'Índia', 'Brasil']\n"
          ]
        }
      ]
    },
    {
      "cell_type": "code",
      "metadata": {
        "colab": {
          "base_uri": "https://localhost:8080/"
        },
        "id": "1ib9M9XaXqZB",
        "outputId": "f07daf20-7346-4648-f7e3-d608b398c6c4"
      },
      "source": [
        "data = {\n",
        "'País': ['Bélgica', 'Índia', 'Brasil'],\n",
        "'Capital': ['Bruxelas', 'Nova Delhi', 'Brasília'],\n",
        "'População': [123465, 456789, 987654]\n",
        "}\n",
        "print(data)\n"
      ],
      "execution_count": 8,
      "outputs": [
        {
          "output_type": "stream",
          "name": "stdout",
          "text": [
            "{'País': ['Bélgica', 'Índia', 'Brasil'], 'Capital': ['Bruxelas', 'Nova Delhi', 'Brasília'], 'População': [123465, 456789, 987654]}\n"
          ]
        }
      ]
    },
    {
      "cell_type": "code",
      "metadata": {
        "colab": {
          "base_uri": "https://localhost:8080/"
        },
        "id": "8Qh21IejX8ui",
        "outputId": "05446248-dd9a-40b4-cdd1-3a370be00b22"
      },
      "source": [
        "df = pd.DataFrame(data, columns=['País','Capital','População'])\n",
        "print(df)\n"
      ],
      "execution_count": 14,
      "outputs": [
        {
          "output_type": "stream",
          "name": "stdout",
          "text": [
            "      País     Capital  População\n",
            "0  Bélgica    Bruxelas     123465\n",
            "1    Índia  Nova Delhi     456789\n",
            "2   Brasil    Brasília     987654\n"
          ]
        }
      ]
    },
    {
      "cell_type": "code",
      "metadata": {
        "id": "StLcacCbYgk2"
      },
      "source": [
        "pd.read_csv('nome_do_arquivo.csv', encoding='ISO-8859-1')\n",
        "pd.to_csv('nome_do_arquivo_para_salvar.csv')"
      ],
      "execution_count": null,
      "outputs": []
    },
    {
      "cell_type": "code",
      "metadata": {
        "id": "bmqPN2mFZEmZ"
      },
      "source": [
        "xlsx = pd.ExcelFile('seu_arquivo_excel.xlsx')\n",
        "df = pd.read_excel(xlsx, 'Planilha 1')\n"
      ],
      "execution_count": null,
      "outputs": []
    },
    {
      "cell_type": "code",
      "metadata": {
        "colab": {
          "base_uri": "https://localhost:8080/"
        },
        "id": "0xsEAH6oZQlx",
        "outputId": "8ad6057f-515e-44fd-e546-9c70b722633c"
      },
      "source": [
        "a = np.array([0, 1, 2, 3])\n",
        "print(a)"
      ],
      "execution_count": 25,
      "outputs": [
        {
          "output_type": "stream",
          "name": "stdout",
          "text": [
            "[0 1 2 3]\n"
          ]
        }
      ]
    },
    {
      "cell_type": "code",
      "metadata": {
        "colab": {
          "base_uri": "https://localhost:8080/"
        },
        "id": "-EoCxelFdini",
        "outputId": "78c81ca0-7fce-45e0-d187-907088fc5145"
      },
      "source": [
        "a = time.time()\n",
        "L = range(1000000)\n",
        "[i**2 for i in L]\n",
        "print(time.time() - a)\n",
        "a = time.time()\n",
        "b = np.arange(1000000)\n",
        "b**2\n",
        "print(time.time() - a)"
      ],
      "execution_count": 31,
      "outputs": [
        {
          "output_type": "stream",
          "name": "stdout",
          "text": [
            "0.32559657096862793\n",
            "0.0036535263061523438\n"
          ]
        }
      ]
    },
    {
      "cell_type": "code",
      "metadata": {
        "id": "mW59i5ZceUD_"
      },
      "source": [
        "help(np.array)"
      ],
      "execution_count": null,
      "outputs": []
    },
    {
      "cell_type": "code",
      "metadata": {
        "colab": {
          "base_uri": "https://localhost:8080/"
        },
        "id": "zmEaTd2mehg3",
        "outputId": "96b45af6-d0b7-4a5e-c0ab-25dc71682874"
      },
      "source": [
        "a = np.array([0, 1, 2, 3])\n",
        "a\n",
        "a.ndim\n",
        "a.shape\n",
        "len(a)"
      ],
      "execution_count": 33,
      "outputs": [
        {
          "output_type": "execute_result",
          "data": {
            "text/plain": [
              "4"
            ]
          },
          "metadata": {},
          "execution_count": 33
        }
      ]
    },
    {
      "cell_type": "code",
      "metadata": {
        "colab": {
          "base_uri": "https://localhost:8080/"
        },
        "id": "yBSnkmKQeyJB",
        "outputId": "d7c90421-b89f-49eb-ab26-53c547e8e24b"
      },
      "source": [
        "b = np.array([[0, 1, 2], [3, 4, 5]])    # 2 x 3 array\n",
        "b\n",
        "b.ndim\n",
        "b.shape\n",
        "len(b)\n"
      ],
      "execution_count": 34,
      "outputs": [
        {
          "output_type": "execute_result",
          "data": {
            "text/plain": [
              "2"
            ]
          },
          "metadata": {},
          "execution_count": 34
        }
      ]
    },
    {
      "cell_type": "code",
      "metadata": {
        "colab": {
          "base_uri": "https://localhost:8080/"
        },
        "id": "ZmlFi7z1e7Ai",
        "outputId": "2cd21d8c-8f85-44b0-cbe0-410063d1f116"
      },
      "source": [
        "c = np.array([[[1], [2]], [[3], [4]]])\n",
        "c\n",
        "c.shape"
      ],
      "execution_count": 35,
      "outputs": [
        {
          "output_type": "execute_result",
          "data": {
            "text/plain": [
              "(2, 2, 1)"
            ]
          },
          "metadata": {},
          "execution_count": 35
        }
      ]
    },
    {
      "cell_type": "code",
      "metadata": {
        "colab": {
          "base_uri": "https://localhost:8080/"
        },
        "id": "v4HZIY2CfDWS",
        "outputId": "c230e598-4fcd-4681-eee0-1f513a58927d"
      },
      "source": [
        "a = np.arange(10) # 0 .. n-1\n",
        "a\n",
        "b = np.arange(1, 9, 2) # início, fim (exclusive), passo\n",
        "b"
      ],
      "execution_count": 36,
      "outputs": [
        {
          "output_type": "execute_result",
          "data": {
            "text/plain": [
              "array([1, 3, 5, 7])"
            ]
          },
          "metadata": {},
          "execution_count": 36
        }
      ]
    },
    {
      "cell_type": "code",
      "metadata": {
        "colab": {
          "base_uri": "https://localhost:8080/"
        },
        "id": "fyeSF7s_fLsW",
        "outputId": "97c598db-bb68-4d01-9ffa-94d944d0bca4"
      },
      "source": [
        "c = np.linspace(0, 1, 6)   # início, fim, número de pontos\n",
        "c\n",
        "d = np.linspace(0, 1, 5, endpoint=False)\n",
        "d"
      ],
      "execution_count": 37,
      "outputs": [
        {
          "output_type": "execute_result",
          "data": {
            "text/plain": [
              "array([0. , 0.2, 0.4, 0.6, 0.8])"
            ]
          },
          "metadata": {},
          "execution_count": 37
        }
      ]
    },
    {
      "cell_type": "code",
      "metadata": {
        "colab": {
          "base_uri": "https://localhost:8080/"
        },
        "id": "9Gzz-AEwfT6U",
        "outputId": "6be340ae-d442-42b7-e2c1-fb618a0d0f0c"
      },
      "source": [
        "a = np.ones((3, 3))  # lembrete: (3, 3) é uma tupla\n",
        "a\n",
        "b = np.zeros((2, 2))\n",
        "b\n",
        "c = np.eye(3)\n",
        "c\n",
        "d = np.diag(np.array([1, 2, 3, 4]))\n",
        "d\n"
      ],
      "execution_count": 38,
      "outputs": [
        {
          "output_type": "execute_result",
          "data": {
            "text/plain": [
              "array([[1, 0, 0, 0],\n",
              "       [0, 2, 0, 0],\n",
              "       [0, 0, 3, 0],\n",
              "       [0, 0, 0, 4]])"
            ]
          },
          "metadata": {},
          "execution_count": 38
        }
      ]
    },
    {
      "cell_type": "code",
      "metadata": {
        "id": "v9o3BoDMfdNy"
      },
      "source": [
        "a = np.random.rand(4)       # uniforme em [0, 1]\n",
        "a\n",
        "b = np.random.randn(4)      # Gaussiana\n",
        "b\n",
        " \n",
        "np.random.seed(1234)        # Definindo um início"
      ],
      "execution_count": 39,
      "outputs": []
    },
    {
      "cell_type": "code",
      "metadata": {
        "colab": {
          "base_uri": "https://localhost:8080/"
        },
        "id": "1YQdPbIDfmwv",
        "outputId": "701f05ca-d05e-4589-97bf-6b145907b838"
      },
      "source": [
        "a = np.array([1, 2, 3])\n",
        "a.dtype\n",
        "b = np.array([1., 2., 3.])\n",
        "b.dtype\n"
      ],
      "execution_count": 40,
      "outputs": [
        {
          "output_type": "execute_result",
          "data": {
            "text/plain": [
              "dtype('float64')"
            ]
          },
          "metadata": {},
          "execution_count": 40
        }
      ]
    },
    {
      "cell_type": "code",
      "metadata": {
        "colab": {
          "base_uri": "https://localhost:8080/"
        },
        "id": "7bEaGO-jfvCp",
        "outputId": "72791736-a0b8-47d4-fa77-8703ff862f34"
      },
      "source": [
        "c = np.array([1, 2, 3], dtype=float)\n",
        "c.dtype"
      ],
      "execution_count": 41,
      "outputs": [
        {
          "output_type": "execute_result",
          "data": {
            "text/plain": [
              "dtype('float64')"
            ]
          },
          "metadata": {},
          "execution_count": 41
        }
      ]
    },
    {
      "cell_type": "code",
      "metadata": {
        "colab": {
          "base_uri": "https://localhost:8080/"
        },
        "id": "qenKVFupf0TD",
        "outputId": "59b9dac5-9e20-42f5-ca04-4b498c420205"
      },
      "source": [
        "a = np.ones((3, 3))\n",
        "a.dtype"
      ],
      "execution_count": 42,
      "outputs": [
        {
          "output_type": "execute_result",
          "data": {
            "text/plain": [
              "dtype('float64')"
            ]
          },
          "metadata": {},
          "execution_count": 42
        }
      ]
    },
    {
      "cell_type": "code",
      "metadata": {
        "colab": {
          "base_uri": "https://localhost:8080/"
        },
        "id": "L0nsJcFaf6Eo",
        "outputId": "7887fcf4-ce7b-4d13-a47e-605fffc9a1ba"
      },
      "source": [
        "d = np.array([1+2j, 3+4j, 5+6*1j])\n",
        "d.dtype"
      ],
      "execution_count": 43,
      "outputs": [
        {
          "output_type": "execute_result",
          "data": {
            "text/plain": [
              "dtype('complex128')"
            ]
          },
          "metadata": {},
          "execution_count": 43
        }
      ]
    },
    {
      "cell_type": "code",
      "metadata": {
        "colab": {
          "base_uri": "https://localhost:8080/"
        },
        "id": "ZVs6vtkUf9tz",
        "outputId": "1c34a1ba-3180-4afb-c64a-d7287d5bcfe2"
      },
      "source": [
        "e = np.array([True, False, False, True])\n",
        "e.dtype"
      ],
      "execution_count": 44,
      "outputs": [
        {
          "output_type": "execute_result",
          "data": {
            "text/plain": [
              "dtype('bool')"
            ]
          },
          "metadata": {},
          "execution_count": 44
        }
      ]
    },
    {
      "cell_type": "code",
      "metadata": {
        "colab": {
          "base_uri": "https://localhost:8080/"
        },
        "id": "UO0lMI0ugDfs",
        "outputId": "b1120502-45a5-4c97-982b-351767fdc463"
      },
      "source": [
        "f = np.array(['Bonjour', 'Hello', 'Olá',])\n",
        "f.dtype"
      ],
      "execution_count": 45,
      "outputs": [
        {
          "output_type": "execute_result",
          "data": {
            "text/plain": [
              "dtype('<U7')"
            ]
          },
          "metadata": {},
          "execution_count": 45
        }
      ]
    },
    {
      "cell_type": "code",
      "metadata": {
        "id": "w0WgJbmciUKV"
      },
      "source": [
        "# Link exemplo da biblioteca: \n",
        "import matplotlib.pyplot as plt\n",
        "# [1] https://github.com/clovesrocha/ETEPDAD/tree/master/WEBCrawlerPython\n",
        "# [2] https://github.com/CarlosSMA/ETEPD_AD/blob/main/II_Bimestre/Desafio_I/dados.py"
      ],
      "execution_count": null,
      "outputs": []
    }
  ]
}