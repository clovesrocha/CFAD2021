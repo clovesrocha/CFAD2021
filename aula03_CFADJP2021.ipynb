{
  "nbformat": 4,
  "nbformat_minor": 0,
  "metadata": {
    "colab": {
      "name": "aula03_CFADJP2021.ipynb",
      "provenance": [],
      "authorship_tag": "ABX9TyMNqpLcrDOInm41ZUT7vMYi",
      "include_colab_link": true
    },
    "kernelspec": {
      "name": "python3",
      "display_name": "Python 3"
    },
    "language_info": {
      "name": "python"
    }
  },
  "cells": [
    {
      "cell_type": "markdown",
      "metadata": {
        "id": "view-in-github",
        "colab_type": "text"
      },
      "source": [
        "<a href=\"https://colab.research.google.com/github/clovesrocha/CFAD2021/blob/main/aula03_CFADJP2021.ipynb\" target=\"_parent\"><img src=\"https://colab.research.google.com/assets/colab-badge.svg\" alt=\"Open In Colab\"/></a>"
      ]
    },
    {
      "cell_type": "markdown",
      "metadata": {
        "id": "R5kwMy0xNJsN"
      },
      "source": [
        "#ETE PORTO DIGITAL\n",
        "#CURSO DE FORMAÇÃO DE ANALISTA DE DADOS (JÚNIOR E PLENO 2021)"
      ]
    },
    {
      "cell_type": "code",
      "metadata": {
        "colab": {
          "base_uri": "https://localhost:8080/"
        },
        "id": "TQ-jeOk9LcD9",
        "outputId": "b8057194-1e85-4f26-a867-1caf1a5cb97e"
      },
      "source": [
        "#ETE PORTO DIGITAL\n",
        "#CURSO DE FORMAÇÃO DE ANALISTA DE DADOS (JÚNIOR E PLENO 2021)\n",
        "\n",
        "print('Olá mundo!')\n",
        "print('Isso é Porto Digital!')\n",
        "print('Vocês serão Analista de Dados!')\n"
      ],
      "execution_count": 4,
      "outputs": [
        {
          "output_type": "stream",
          "name": "stdout",
          "text": [
            "Olá mundo!\n",
            "Isso é Porto Digital!\n",
            "Vocês serão Analista de Dados!\n"
          ]
        }
      ]
    },
    {
      "cell_type": "code",
      "metadata": {
        "id": "E3ARVRzHNxGq"
      },
      "source": [
        "#mais códigos..."
      ],
      "execution_count": null,
      "outputs": []
    },
    {
      "cell_type": "code",
      "metadata": {
        "colab": {
          "base_uri": "https://localhost:8080/"
        },
        "id": "QRxYZzLfOy97",
        "outputId": "01f7200f-c8a1-468a-cdf8-b67b62323c00"
      },
      "source": [
        "x = 'Cloves Rocha'\n",
        "print(type(x)) "
      ],
      "execution_count": 9,
      "outputs": [
        {
          "output_type": "stream",
          "name": "stdout",
          "text": [
            "<class 'str'>\n"
          ]
        }
      ]
    },
    {
      "cell_type": "code",
      "metadata": {
        "colab": {
          "base_uri": "https://localhost:8080/"
        },
        "id": "Hr6bwD7GPRoU",
        "outputId": "30b2bc9d-73f6-4867-e7b8-f4c6ea1895b3"
      },
      "source": [
        "x = 'Olá mundo!'\n",
        "print(x)\n",
        "print(type(x))"
      ],
      "execution_count": 10,
      "outputs": [
        {
          "output_type": "stream",
          "name": "stdout",
          "text": [
            "Olá mundo!\n",
            "<class 'str'>\n"
          ]
        }
      ]
    },
    {
      "cell_type": "code",
      "metadata": {
        "colab": {
          "base_uri": "https://localhost:8080/"
        },
        "id": "0E-adMjwPw4F",
        "outputId": "45b02f66-a61e-4c32-a8a8-d38d36765708"
      },
      "source": [
        "x = 2\n",
        "y = 2\n",
        "print(x == y)"
      ],
      "execution_count": 12,
      "outputs": [
        {
          "output_type": "stream",
          "name": "stdout",
          "text": [
            "True\n"
          ]
        }
      ]
    },
    {
      "cell_type": "code",
      "metadata": {
        "colab": {
          "base_uri": "https://localhost:8080/"
        },
        "id": "Lp3-G-skQi-s",
        "outputId": "854523e7-ebb9-476e-ace0-e83711c783ac"
      },
      "source": [
        "x = 2**3\n",
        "print(x)"
      ],
      "execution_count": 15,
      "outputs": [
        {
          "output_type": "stream",
          "name": "stdout",
          "text": [
            "8\n"
          ]
        }
      ]
    },
    {
      "cell_type": "code",
      "metadata": {
        "colab": {
          "base_uri": "https://localhost:8080/"
        },
        "id": "LYRMpsCGQsXq",
        "outputId": "b48366e5-6a90-4298-90c4-c6f1200e5d04"
      },
      "source": [
        "x = 10//3 \n",
        "print(x)"
      ],
      "execution_count": 16,
      "outputs": [
        {
          "output_type": "stream",
          "name": "stdout",
          "text": [
            "3\n"
          ]
        }
      ]
    },
    {
      "cell_type": "code",
      "metadata": {
        "colab": {
          "base_uri": "https://localhost:8080/"
        },
        "id": "5rR1axdNRCPq",
        "outputId": "b23840a0-66fc-409e-aa3d-a407c47276bb"
      },
      "source": [
        "x = 10/3 \n",
        "print(x)"
      ],
      "execution_count": 18,
      "outputs": [
        {
          "output_type": "stream",
          "name": "stdout",
          "text": [
            "3.3333333333333335\n"
          ]
        }
      ]
    },
    {
      "cell_type": "code",
      "metadata": {
        "colab": {
          "base_uri": "https://localhost:8080/"
        },
        "id": "r_8pO62TQ11M",
        "outputId": "d9302b8a-988f-42b8-ea46-d660036f76a5"
      },
      "source": [
        "x = 10%3 \n",
        "print(x)"
      ],
      "execution_count": 17,
      "outputs": [
        {
          "output_type": "stream",
          "name": "stdout",
          "text": [
            "1\n"
          ]
        }
      ]
    },
    {
      "cell_type": "code",
      "metadata": {
        "colab": {
          "base_uri": "https://localhost:8080/"
        },
        "id": "9UGQn5BCRkbX",
        "outputId": "c8e633d7-47a8-4ec0-d296-0201b9900ca2"
      },
      "source": [
        "a = 3\n",
        "b = 3\n",
        "print(a >= b)"
      ],
      "execution_count": 21,
      "outputs": [
        {
          "output_type": "stream",
          "name": "stdout",
          "text": [
            "True\n"
          ]
        }
      ]
    },
    {
      "cell_type": "code",
      "metadata": {
        "colab": {
          "base_uri": "https://localhost:8080/"
        },
        "id": "nlfOv0HARyHe",
        "outputId": "4cc6dc86-f3cc-4d17-cfc9-2639d578ded4"
      },
      "source": [
        "print('Olá mundo!, 2, 2.5, True, False')"
      ],
      "execution_count": 24,
      "outputs": [
        {
          "output_type": "stream",
          "name": "stdout",
          "text": [
            "Olá mundo!, 2, 2.5, True, False\n"
          ]
        }
      ]
    },
    {
      "cell_type": "code",
      "metadata": {
        "colab": {
          "base_uri": "https://localhost:8080/"
        },
        "id": "l-PwHVkLSR7i",
        "outputId": "3380cc1c-751c-41e4-e34d-af539b021696"
      },
      "source": [
        "numero = 2\n",
        "print(f'O número {numero} é par.')"
      ],
      "execution_count": 28,
      "outputs": [
        {
          "output_type": "stream",
          "name": "stdout",
          "text": [
            "O número 2 é par.\n"
          ]
        }
      ]
    },
    {
      "cell_type": "code",
      "metadata": {
        "colab": {
          "base_uri": "https://localhost:8080/"
        },
        "id": "XlsBSEdsS1xA",
        "outputId": "9d016c1f-2df4-4bbb-de6a-44773cb4be63"
      },
      "source": [
        "nome = input('Digite seu nome: ')\n",
        "print(f'Seu nome é {nome}.')"
      ],
      "execution_count": 29,
      "outputs": [
        {
          "output_type": "stream",
          "name": "stdout",
          "text": [
            "Digite seu nome: Cloves Rocha\n",
            "Seu nome é Cloves Rocha.\n"
          ]
        }
      ]
    },
    {
      "cell_type": "code",
      "metadata": {
        "colab": {
          "base_uri": "https://localhost:8080/"
        },
        "id": "rw4ZNZYaTA9T",
        "outputId": "90871890-7f88-47b4-d766-ce3f44be440f"
      },
      "source": [
        "matricula = input('Digite sua matrícula: ')\n",
        "print(f'Sua matrícula é {matricula}.')"
      ],
      "execution_count": 32,
      "outputs": [
        {
          "output_type": "stream",
          "name": "stdout",
          "text": [
            "Digite sua matrícula: 202100754\n",
            "Sua matrícula é 202100754.\n"
          ]
        }
      ]
    },
    {
      "cell_type": "code",
      "metadata": {
        "colab": {
          "base_uri": "https://localhost:8080/"
        },
        "id": "yqZTeT6zThNq",
        "outputId": "74f46e9f-5ea5-4b88-bbc9-7c250d4321b5"
      },
      "source": [
        "idade = input('Digite sua idade: ')\n",
        "print(f'Você tem {idade} anos.')"
      ],
      "execution_count": 33,
      "outputs": [
        {
          "output_type": "stream",
          "name": "stdout",
          "text": [
            "Digite sua idade: 36\n",
            "Você tem 36 anos.\n"
          ]
        }
      ]
    },
    {
      "cell_type": "code",
      "metadata": {
        "colab": {
          "base_uri": "https://localhost:8080/"
        },
        "id": "uQ3iN0eaTmBQ",
        "outputId": "1689c07b-580d-4c41-f463-d17f8157abf9"
      },
      "source": [
        "idade = input('Digite sua idade: ')\n",
        "print(f'Você tem {idade} anos.')\n",
        "print(type(idade))"
      ],
      "execution_count": 34,
      "outputs": [
        {
          "output_type": "stream",
          "name": "stdout",
          "text": [
            "Digite sua idade: 36\n",
            "Você tem 36 anos.\n",
            "<class 'str'>\n"
          ]
        }
      ]
    },
    {
      "cell_type": "code",
      "metadata": {
        "colab": {
          "base_uri": "https://localhost:8080/"
        },
        "id": "ff1SICbcTwQ9",
        "outputId": "5fd0e9b3-7582-470f-fe90-b7a21f591b62"
      },
      "source": [
        "peso = float(input('Digite seu peso: '))\n",
        "print(f'Você pesa {peso}KGs')\n",
        "print(type(peso))"
      ],
      "execution_count": 36,
      "outputs": [
        {
          "output_type": "stream",
          "name": "stdout",
          "text": [
            "Digite seu peso: 85.5\n",
            "Você pesa 85.5KGs\n",
            "<class 'float'>\n"
          ]
        }
      ]
    },
    {
      "cell_type": "code",
      "metadata": {
        "colab": {
          "base_uri": "https://localhost:8080/"
        },
        "id": "kArtqaECUNFU",
        "outputId": "199def05-7afc-43eb-b53a-18b15b259da5"
      },
      "source": [
        "num = int(input('Digite um número: '))\n",
        "if num % 2 == 0:\n",
        "    print(f'O número {num} é par')\n",
        "else:\n",
        "    print(f'O número {num} é ímpar')"
      ],
      "execution_count": 41,
      "outputs": [
        {
          "output_type": "stream",
          "name": "stdout",
          "text": [
            "Digite um número: 3\n",
            "O número 3 é ímpar\n"
          ]
        }
      ]
    },
    {
      "cell_type": "code",
      "metadata": {
        "colab": {
          "base_uri": "https://localhost:8080/"
        },
        "id": "jNHuiW8BU-lV",
        "outputId": "bb43139e-31e3-40ad-e9a1-d9e59395c971"
      },
      "source": [
        "num = float(input('Digite um número: '))\n",
        "#SE\n",
        "if num > 0:\n",
        "   print('Este número é positivo')\n",
        "\n",
        "elif num == 0:\n",
        "   print('Este número é neutro')\n",
        "\n",
        "#SENAO\n",
        "else:\n",
        "   print('Este número é negativo')"
      ],
      "execution_count": 44,
      "outputs": [
        {
          "output_type": "stream",
          "name": "stdout",
          "text": [
            "Digite um número: -1\n",
            "Este número é negativo\n"
          ]
        }
      ]
    },
    {
      "cell_type": "code",
      "metadata": {
        "colab": {
          "base_uri": "https://localhost:8080/"
        },
        "id": "jLVSXysqVOn-",
        "outputId": "ba381ed0-26a8-4aa1-db71-13337f0ecb86"
      },
      "source": [
        "resposta = int( input('Qual sua idade: ') )\n",
        "if resposta >= 18 and resposta <= 65:\n",
        "   print('Você é obrigado a votar!')\n",
        "else:\n",
        "   print('Você não é obrigado a votar!')"
      ],
      "execution_count": 50,
      "outputs": [
        {
          "output_type": "stream",
          "name": "stdout",
          "text": [
            "Qual sua idade: 18\n",
            "Você é obrigado a votar!\n"
          ]
        }
      ]
    },
    {
      "cell_type": "code",
      "metadata": {
        "colab": {
          "base_uri": "https://localhost:8080/"
        },
        "id": "bf-m6CCFWx8M",
        "outputId": "32a3878c-cffb-4ebb-8594-9a6bcb45513e"
      },
      "source": [
        "print('1. Idoso')\n",
        "print('2. Gestante')\n",
        "print('3. Cadeirante')\n",
        "print('4. Nenhum destes')\n",
        "resposta=int( input('Você é: ') )\n",
        "\n",
        "if (resposta==1) or (resposta==2) or (resposta==3) :\n",
        "   print('Você tem direito a fila prioritária')\n",
        "else:\n",
        "   print('Você não tem direito a nada. Vá pra fila e fique quieto')"
      ],
      "execution_count": 51,
      "outputs": [
        {
          "output_type": "stream",
          "name": "stdout",
          "text": [
            "1. Idoso\n",
            "2. Gestante\n",
            "3. Cadeirante\n",
            "4. Nenhum destes\n",
            "Você é: 1\n",
            "Você tem direito a fila prioritária\n"
          ]
        }
      ]
    },
    {
      "cell_type": "code",
      "metadata": {
        "colab": {
          "base_uri": "https://localhost:8080/"
        },
        "id": "XcK9oX1kXGH3",
        "outputId": "daeb4a73-d48c-4891-8988-b6b241b3c6cc"
      },
      "source": [
        "a = 4\n",
        "b = 2\n",
        "print(not a > b)"
      ],
      "execution_count": 54,
      "outputs": [
        {
          "output_type": "stream",
          "name": "stdout",
          "text": [
            "False\n"
          ]
        }
      ]
    },
    {
      "cell_type": "code",
      "metadata": {
        "colab": {
          "base_uri": "https://localhost:8080/"
        },
        "id": "NStTGkPRXTdn",
        "outputId": "c9d18d9e-fa15-4928-f8df-a342c3aa24df"
      },
      "source": [
        "banda = input('Qual melhor banda do mundo? ')\n",
        "\n",
        "if not banda=='Beatles':\n",
        "   print('Herege!')\n",
        "else:\n",
        "   print('Correto, são os Beatles!')"
      ],
      "execution_count": 56,
      "outputs": [
        {
          "output_type": "stream",
          "name": "stdout",
          "text": [
            "Qual melhor banda do mundo? Tsunami\n",
            "Herege!\n"
          ]
        }
      ]
    },
    {
      "cell_type": "code",
      "metadata": {
        "colab": {
          "base_uri": "https://localhost:8080/"
        },
        "id": "ruFmo4AAXyIs",
        "outputId": "be5b435b-2270-42f5-84ff-06eb026ed03d"
      },
      "source": [
        "a = int(input('Digite um número: '))\n",
        "if a in range(1, 300):\n",
        "   print(f'{a} está entre 1 e 300.')\n",
        "else:\n",
        "   print(f'{a} não está entre 1 e 300.')"
      ],
      "execution_count": 60,
      "outputs": [
        {
          "output_type": "stream",
          "name": "stdout",
          "text": [
            "Digite um número: 250\n",
            "250 está entre 1 e 300.\n"
          ]
        }
      ]
    }
  ]
}